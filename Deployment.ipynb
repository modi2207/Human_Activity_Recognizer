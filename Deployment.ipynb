{
 "cells": [
  {
   "cell_type": "markdown",
   "id": "8e7c922f",
   "metadata": {},
   "source": [
    "# Deployement \n",
    "Ensure at least 15 seconds of data is collected, trimming edges to obtain 10 seconds of relevant data. Collect 3-5 samples per activity class and report accuracy using both featurized and raw data. You have to train on UCI dataset (You can use the entire dataset if you want) and test it on the data that you have collected and report the accuracy and confusion matrix. Test your model's performance on the collected data, explaining why it succeeded or failed."
   ]
  },
  {
   "cell_type": "code",
   "execution_count": 2,
   "id": "569d3941",
   "metadata": {},
   "outputs": [],
   "source": [
    "\n",
    "from sklearn.model_selection import train_test_split\n",
    "from sklearn.tree import DecisionTreeClassifier\n",
    "import pandas as pd\n",
    "import numpy as np\n",
    "import os\n",
    "import pickle\n",
    "\n",
    "time = 10\n",
    "offset = 300\n",
    "folders = [\"LAYING\",\"SITTING\",\"STANDING\",\"WALKING\",\"WALKING_DOWNSTAIRS\",\"WALKING_UPSTAIRS\"]\n",
    "classes = {\"WALKING\":1,\"WALKING_UPSTAIRS\":2,\"WALKING_DOWNSTAIRS\":3,\"SITTING\":4,\"STANDING\":5,\"LAYING\":6}\n",
    "\n",
    "dataset_dir = os.path.join(\"Physics_tool_box_data\")\n",
    "\n",
    "X_test=[]\n",
    "y_test=[]\n",
    "\n",
    "\n",
    "for folder in folders:\n",
    "    files = os.listdir(os.path.join(dataset_dir,folder))\n",
    "    for file in files:\n",
    "\n",
    "        df = pd.read_csv(os.path.join(dataset_dir,folder,file),sep=\",\",header=0)\n",
    "        df = df.iloc[offset:offset+time*100,1:4]\n",
    "        X_test.append(df.values)\n",
    "        y_test.append(classes[folder])\n",
    "\n",
    "#print(X_test)\n",
    "X_test = np.array(X_test)\n",
    "y_test = np.array(y_test)\n",
    "\n",
    "X_test = X_test.reshape(X_test.shape[1]*X_test.shape[0],X_test.shape[2])\n",
    "y_test = np.repeat(y_test, 1000)\n",
    "\n"
   ]
  },
  {
   "cell_type": "code",
   "execution_count": 3,
   "id": "c7d063c8",
   "metadata": {},
   "outputs": [],
   "source": [
    "with open('model_raw.pkl', 'rb') as f:\n",
    "    model_raw = pickle.load(f)\n",
    "y_predict=model_raw.predict(X_test)\n"
   ]
  },
  {
   "cell_type": "code",
   "execution_count": 4,
   "id": "817e3028",
   "metadata": {},
   "outputs": [],
   "source": [
    "df=pd.DataFrame(np.zeros((6,6),int),columns=['WALKING','WALKING_UPSTAIRS','WALKING_DOWNSTAIRS','SITTING','STANDING','LAYING'],index=['WALKING','WALKING_UPSTAIRS','WALKING_DOWNSTAIRS','SITTING','STANDING','LAYING'])"
   ]
  },
  {
   "cell_type": "code",
   "execution_count": 5,
   "id": "a0be7cf6",
   "metadata": {},
   "outputs": [
    {
     "name": "stdout",
     "output_type": "stream",
     "text": [
      "Accuracy:  0.21086162269799158\n"
     ]
    }
   ],
   "source": [
    "for i in range(0,len(y_predict)):\n",
    "    df.iloc[y_predict[i]-1,y_test[i]-1]=df.iloc[y_predict[i]-1,y_test[i]-1]+1\n",
    "df['PRECISION'] = np.zeros(len(df))\n",
    "df.loc['RECALL']=np.zeros(7,int)\n",
    "for i in range(len(df)):\n",
    "    sum=df.iloc[i,:].sum()\n",
    "    if sum==0:\n",
    "        df.iloc[i,6]=0\n",
    "    else:\n",
    "        df.iloc[i,6]=df.iloc[i,i]/sum\n",
    "    \n",
    "for i in range(len(df.columns)):\n",
    "    sum=df.iloc[:,i].sum()\n",
    "    df.iloc[6,i]=df.iloc[i,i]/sum\n",
    "\n",
    "total_sum=0\n",
    "sum=0\n",
    "for i in range(len(df.columns)):\n",
    "    total_sum=total_sum+df.iloc[:,i].sum()\n",
    "for i in range(len(df.columns)):\n",
    "    sum=sum+df.iloc[i,i]\n",
    "accur=sum/total_sum\n",
    "print(\"Accuracy: \",accur)"
   ]
  },
  {
   "cell_type": "code",
   "execution_count": 6,
   "id": "7a0e5103",
   "metadata": {},
   "outputs": [
    {
     "data": {
      "text/html": [
       "<div>\n",
       "<style scoped>\n",
       "    .dataframe tbody tr th:only-of-type {\n",
       "        vertical-align: middle;\n",
       "    }\n",
       "\n",
       "    .dataframe tbody tr th {\n",
       "        vertical-align: top;\n",
       "    }\n",
       "\n",
       "    .dataframe thead th {\n",
       "        text-align: right;\n",
       "    }\n",
       "</style>\n",
       "<table border=\"1\" class=\"dataframe\">\n",
       "  <thead>\n",
       "    <tr style=\"text-align: right;\">\n",
       "      <th></th>\n",
       "      <th>WALKING</th>\n",
       "      <th>WALKING_UPSTAIRS</th>\n",
       "      <th>WALKING_DOWNSTAIRS</th>\n",
       "      <th>SITTING</th>\n",
       "      <th>STANDING</th>\n",
       "      <th>LAYING</th>\n",
       "      <th>PRECISION</th>\n",
       "    </tr>\n",
       "  </thead>\n",
       "  <tbody>\n",
       "    <tr>\n",
       "      <th>WALKING</th>\n",
       "      <td>262.000000</td>\n",
       "      <td>270.000</td>\n",
       "      <td>234.000000</td>\n",
       "      <td>0</td>\n",
       "      <td>0</td>\n",
       "      <td>0.000000</td>\n",
       "      <td>0.342037</td>\n",
       "    </tr>\n",
       "    <tr>\n",
       "      <th>WALKING_UPSTAIRS</th>\n",
       "      <td>148.000000</td>\n",
       "      <td>174.000</td>\n",
       "      <td>170.000000</td>\n",
       "      <td>18</td>\n",
       "      <td>12</td>\n",
       "      <td>0.000000</td>\n",
       "      <td>0.333333</td>\n",
       "    </tr>\n",
       "    <tr>\n",
       "      <th>WALKING_DOWNSTAIRS</th>\n",
       "      <td>790.000000</td>\n",
       "      <td>804.000</td>\n",
       "      <td>812.000000</td>\n",
       "      <td>1090</td>\n",
       "      <td>1034</td>\n",
       "      <td>452.000000</td>\n",
       "      <td>0.162987</td>\n",
       "    </tr>\n",
       "    <tr>\n",
       "      <th>SITTING</th>\n",
       "      <td>196.000000</td>\n",
       "      <td>94.000</td>\n",
       "      <td>58.000000</td>\n",
       "      <td>0</td>\n",
       "      <td>0</td>\n",
       "      <td>0.000000</td>\n",
       "      <td>0.000000</td>\n",
       "    </tr>\n",
       "    <tr>\n",
       "      <th>STANDING</th>\n",
       "      <td>0.000000</td>\n",
       "      <td>0.000</td>\n",
       "      <td>0.000000</td>\n",
       "      <td>0</td>\n",
       "      <td>0</td>\n",
       "      <td>0.000000</td>\n",
       "      <td>0.000000</td>\n",
       "    </tr>\n",
       "    <tr>\n",
       "      <th>LAYING</th>\n",
       "      <td>1604.000000</td>\n",
       "      <td>1658.000</td>\n",
       "      <td>1726.000000</td>\n",
       "      <td>1892</td>\n",
       "      <td>1954</td>\n",
       "      <td>2548.000000</td>\n",
       "      <td>0.223862</td>\n",
       "    </tr>\n",
       "    <tr>\n",
       "      <th>RECALL</th>\n",
       "      <td>0.087333</td>\n",
       "      <td>0.058</td>\n",
       "      <td>0.270667</td>\n",
       "      <td>0</td>\n",
       "      <td>0</td>\n",
       "      <td>0.849333</td>\n",
       "      <td>0.000000</td>\n",
       "    </tr>\n",
       "  </tbody>\n",
       "</table>\n",
       "</div>"
      ],
      "text/plain": [
       "                        WALKING  WALKING_UPSTAIRS  WALKING_DOWNSTAIRS  \\\n",
       "WALKING              262.000000           270.000          234.000000   \n",
       "WALKING_UPSTAIRS     148.000000           174.000          170.000000   \n",
       "WALKING_DOWNSTAIRS   790.000000           804.000          812.000000   \n",
       "SITTING              196.000000            94.000           58.000000   \n",
       "STANDING               0.000000             0.000            0.000000   \n",
       "LAYING              1604.000000          1658.000         1726.000000   \n",
       "RECALL                 0.087333             0.058            0.270667   \n",
       "\n",
       "                    SITTING  STANDING       LAYING  PRECISION  \n",
       "WALKING                   0         0     0.000000   0.342037  \n",
       "WALKING_UPSTAIRS         18        12     0.000000   0.333333  \n",
       "WALKING_DOWNSTAIRS     1090      1034   452.000000   0.162987  \n",
       "SITTING                   0         0     0.000000   0.000000  \n",
       "STANDING                  0         0     0.000000   0.000000  \n",
       "LAYING                 1892      1954  2548.000000   0.223862  \n",
       "RECALL                    0         0     0.849333   0.000000  "
      ]
     },
     "execution_count": 6,
     "metadata": {},
     "output_type": "execute_result"
    }
   ],
   "source": [
    "df"
   ]
  },
  {
   "cell_type": "code",
   "execution_count": 17,
   "id": "6ba2f755",
   "metadata": {},
   "outputs": [
    {
     "name": "stdout",
     "output_type": "stream",
     "text": [
      "*** Feature extraction started ***\n"
     ]
    },
    {
     "data": {
      "text/html": [
       "\n",
       "              <p>\n",
       "                  Progress: 100% Complete\n",
       "              <p/>\n",
       "              <progress\n",
       "                  value='18'\n",
       "                  max='18',\n",
       "                  style='width: 25%',\n",
       "              >\n",
       "                  18\n",
       "              </progress>\n",
       "\n",
       "    "
      ],
      "text/plain": [
       "<IPython.core.display.HTML object>"
      ]
     },
     "metadata": {},
     "output_type": "display_data"
    },
    {
     "name": "stdout",
     "output_type": "stream",
     "text": [
      "\n",
      "*** Feature extraction finished ***\n",
      "*** Feature extraction started ***\n"
     ]
    },
    {
     "data": {
      "text/html": [
       "\n",
       "              <p>\n",
       "                  Progress: 100% Complete\n",
       "              <p/>\n",
       "              <progress\n",
       "                  value='17'\n",
       "                  max='17',\n",
       "                  style='width: 25%',\n",
       "              >\n",
       "                  17\n",
       "              </progress>\n",
       "\n",
       "    "
      ],
      "text/plain": [
       "<IPython.core.display.HTML object>"
      ]
     },
     "metadata": {},
     "output_type": "display_data"
    },
    {
     "name": "stdout",
     "output_type": "stream",
     "text": [
      "\n",
      "*** Feature extraction finished ***\n",
      "*** Feature extraction started ***\n"
     ]
    },
    {
     "data": {
      "text/html": [
       "\n",
       "              <p>\n",
       "                  Progress: 100% Complete\n",
       "              <p/>\n",
       "              <progress\n",
       "                  value='17'\n",
       "                  max='17',\n",
       "                  style='width: 25%',\n",
       "              >\n",
       "                  17\n",
       "              </progress>\n",
       "\n",
       "    "
      ],
      "text/plain": [
       "<IPython.core.display.HTML object>"
      ]
     },
     "metadata": {},
     "output_type": "display_data"
    },
    {
     "name": "stdout",
     "output_type": "stream",
     "text": [
      "\n",
      "*** Feature extraction finished ***\n",
      "*** Feature extraction started ***\n"
     ]
    },
    {
     "data": {
      "text/html": [
       "\n",
       "              <p>\n",
       "                  Progress: 100% Complete\n",
       "              <p/>\n",
       "              <progress\n",
       "                  value='16'\n",
       "                  max='16',\n",
       "                  style='width: 25%',\n",
       "              >\n",
       "                  16\n",
       "              </progress>\n",
       "\n",
       "    "
      ],
      "text/plain": [
       "<IPython.core.display.HTML object>"
      ]
     },
     "metadata": {},
     "output_type": "display_data"
    },
    {
     "name": "stdout",
     "output_type": "stream",
     "text": [
      "\n",
      "*** Feature extraction finished ***\n",
      "*** Feature extraction started ***\n"
     ]
    },
    {
     "data": {
      "text/html": [
       "\n",
       "              <p>\n",
       "                  Progress: 100% Complete\n",
       "              <p/>\n",
       "              <progress\n",
       "                  value='16'\n",
       "                  max='16',\n",
       "                  style='width: 25%',\n",
       "              >\n",
       "                  16\n",
       "              </progress>\n",
       "\n",
       "    "
      ],
      "text/plain": [
       "<IPython.core.display.HTML object>"
      ]
     },
     "metadata": {},
     "output_type": "display_data"
    },
    {
     "name": "stdout",
     "output_type": "stream",
     "text": [
      "\n",
      "*** Feature extraction finished ***\n",
      "*** Feature extraction started ***\n"
     ]
    },
    {
     "data": {
      "text/html": [
       "\n",
       "              <p>\n",
       "                  Progress: 100% Complete\n",
       "              <p/>\n",
       "              <progress\n",
       "                  value='15'\n",
       "                  max='15',\n",
       "                  style='width: 25%',\n",
       "              >\n",
       "                  15\n",
       "              </progress>\n",
       "\n",
       "    "
      ],
      "text/plain": [
       "<IPython.core.display.HTML object>"
      ]
     },
     "metadata": {},
     "output_type": "display_data"
    },
    {
     "name": "stdout",
     "output_type": "stream",
     "text": [
      "\n",
      "*** Feature extraction finished ***\n",
      "*** Feature extraction started ***\n"
     ]
    },
    {
     "data": {
      "text/html": [
       "\n",
       "              <p>\n",
       "                  Progress: 100% Complete\n",
       "              <p/>\n",
       "              <progress\n",
       "                  value='17'\n",
       "                  max='17',\n",
       "                  style='width: 25%',\n",
       "              >\n",
       "                  17\n",
       "              </progress>\n",
       "\n",
       "    "
      ],
      "text/plain": [
       "<IPython.core.display.HTML object>"
      ]
     },
     "metadata": {},
     "output_type": "display_data"
    },
    {
     "name": "stdout",
     "output_type": "stream",
     "text": [
      "\n",
      "*** Feature extraction finished ***\n",
      "*** Feature extraction started ***\n"
     ]
    },
    {
     "data": {
      "text/html": [
       "\n",
       "              <p>\n",
       "                  Progress: 100% Complete\n",
       "              <p/>\n",
       "              <progress\n",
       "                  value='22'\n",
       "                  max='22',\n",
       "                  style='width: 25%',\n",
       "              >\n",
       "                  22\n",
       "              </progress>\n",
       "\n",
       "    "
      ],
      "text/plain": [
       "<IPython.core.display.HTML object>"
      ]
     },
     "metadata": {},
     "output_type": "display_data"
    },
    {
     "name": "stdout",
     "output_type": "stream",
     "text": [
      "\n",
      "*** Feature extraction finished ***\n",
      "*** Feature extraction started ***\n"
     ]
    },
    {
     "data": {
      "text/html": [
       "\n",
       "              <p>\n",
       "                  Progress: 100% Complete\n",
       "              <p/>\n",
       "              <progress\n",
       "                  value='16'\n",
       "                  max='16',\n",
       "                  style='width: 25%',\n",
       "              >\n",
       "                  16\n",
       "              </progress>\n",
       "\n",
       "    "
      ],
      "text/plain": [
       "<IPython.core.display.HTML object>"
      ]
     },
     "metadata": {},
     "output_type": "display_data"
    },
    {
     "name": "stdout",
     "output_type": "stream",
     "text": [
      "\n",
      "*** Feature extraction finished ***\n",
      "*** Feature extraction started ***\n"
     ]
    },
    {
     "data": {
      "text/html": [
       "\n",
       "              <p>\n",
       "                  Progress: 100% Complete\n",
       "              <p/>\n",
       "              <progress\n",
       "                  value='16'\n",
       "                  max='16',\n",
       "                  style='width: 25%',\n",
       "              >\n",
       "                  16\n",
       "              </progress>\n",
       "\n",
       "    "
      ],
      "text/plain": [
       "<IPython.core.display.HTML object>"
      ]
     },
     "metadata": {},
     "output_type": "display_data"
    },
    {
     "name": "stdout",
     "output_type": "stream",
     "text": [
      "\n",
      "*** Feature extraction finished ***\n",
      "*** Feature extraction started ***\n"
     ]
    },
    {
     "data": {
      "text/html": [
       "\n",
       "              <p>\n",
       "                  Progress: 100% Complete\n",
       "              <p/>\n",
       "              <progress\n",
       "                  value='17'\n",
       "                  max='17',\n",
       "                  style='width: 25%',\n",
       "              >\n",
       "                  17\n",
       "              </progress>\n",
       "\n",
       "    "
      ],
      "text/plain": [
       "<IPython.core.display.HTML object>"
      ]
     },
     "metadata": {},
     "output_type": "display_data"
    },
    {
     "name": "stdout",
     "output_type": "stream",
     "text": [
      "\n",
      "*** Feature extraction finished ***\n",
      "*** Feature extraction started ***\n"
     ]
    },
    {
     "data": {
      "text/html": [
       "\n",
       "              <p>\n",
       "                  Progress: 100% Complete\n",
       "              <p/>\n",
       "              <progress\n",
       "                  value='15'\n",
       "                  max='15',\n",
       "                  style='width: 25%',\n",
       "              >\n",
       "                  15\n",
       "              </progress>\n",
       "\n",
       "    "
      ],
      "text/plain": [
       "<IPython.core.display.HTML object>"
      ]
     },
     "metadata": {},
     "output_type": "display_data"
    },
    {
     "name": "stdout",
     "output_type": "stream",
     "text": [
      "\n",
      "*** Feature extraction finished ***\n",
      "*** Feature extraction started ***\n"
     ]
    },
    {
     "data": {
      "text/html": [
       "\n",
       "              <p>\n",
       "                  Progress: 100% Complete\n",
       "              <p/>\n",
       "              <progress\n",
       "                  value='15'\n",
       "                  max='15',\n",
       "                  style='width: 25%',\n",
       "              >\n",
       "                  15\n",
       "              </progress>\n",
       "\n",
       "    "
      ],
      "text/plain": [
       "<IPython.core.display.HTML object>"
      ]
     },
     "metadata": {},
     "output_type": "display_data"
    },
    {
     "name": "stdout",
     "output_type": "stream",
     "text": [
      "\n",
      "*** Feature extraction finished ***\n",
      "*** Feature extraction started ***\n"
     ]
    },
    {
     "data": {
      "text/html": [
       "\n",
       "              <p>\n",
       "                  Progress: 100% Complete\n",
       "              <p/>\n",
       "              <progress\n",
       "                  value='15'\n",
       "                  max='15',\n",
       "                  style='width: 25%',\n",
       "              >\n",
       "                  15\n",
       "              </progress>\n",
       "\n",
       "    "
      ],
      "text/plain": [
       "<IPython.core.display.HTML object>"
      ]
     },
     "metadata": {},
     "output_type": "display_data"
    },
    {
     "name": "stdout",
     "output_type": "stream",
     "text": [
      "\n",
      "*** Feature extraction finished ***\n",
      "*** Feature extraction started ***\n"
     ]
    },
    {
     "data": {
      "text/html": [
       "\n",
       "              <p>\n",
       "                  Progress: 100% Complete\n",
       "              <p/>\n",
       "              <progress\n",
       "                  value='15'\n",
       "                  max='15',\n",
       "                  style='width: 25%',\n",
       "              >\n",
       "                  15\n",
       "              </progress>\n",
       "\n",
       "    "
      ],
      "text/plain": [
       "<IPython.core.display.HTML object>"
      ]
     },
     "metadata": {},
     "output_type": "display_data"
    },
    {
     "name": "stdout",
     "output_type": "stream",
     "text": [
      "\n",
      "*** Feature extraction finished ***\n",
      "*** Feature extraction started ***\n"
     ]
    },
    {
     "data": {
      "text/html": [
       "\n",
       "              <p>\n",
       "                  Progress: 100% Complete\n",
       "              <p/>\n",
       "              <progress\n",
       "                  value='15'\n",
       "                  max='15',\n",
       "                  style='width: 25%',\n",
       "              >\n",
       "                  15\n",
       "              </progress>\n",
       "\n",
       "    "
      ],
      "text/plain": [
       "<IPython.core.display.HTML object>"
      ]
     },
     "metadata": {},
     "output_type": "display_data"
    },
    {
     "name": "stdout",
     "output_type": "stream",
     "text": [
      "\n",
      "*** Feature extraction finished ***\n",
      "*** Feature extraction started ***\n"
     ]
    },
    {
     "data": {
      "text/html": [
       "\n",
       "              <p>\n",
       "                  Progress: 100% Complete\n",
       "              <p/>\n",
       "              <progress\n",
       "                  value='16'\n",
       "                  max='16',\n",
       "                  style='width: 25%',\n",
       "              >\n",
       "                  16\n",
       "              </progress>\n",
       "\n",
       "    "
      ],
      "text/plain": [
       "<IPython.core.display.HTML object>"
      ]
     },
     "metadata": {},
     "output_type": "display_data"
    },
    {
     "name": "stdout",
     "output_type": "stream",
     "text": [
      "\n",
      "*** Feature extraction finished ***\n",
      "*** Feature extraction started ***\n"
     ]
    },
    {
     "data": {
      "text/html": [
       "\n",
       "              <p>\n",
       "                  Progress: 100% Complete\n",
       "              <p/>\n",
       "              <progress\n",
       "                  value='15'\n",
       "                  max='15',\n",
       "                  style='width: 25%',\n",
       "              >\n",
       "                  15\n",
       "              </progress>\n",
       "\n",
       "    "
      ],
      "text/plain": [
       "<IPython.core.display.HTML object>"
      ]
     },
     "metadata": {},
     "output_type": "display_data"
    },
    {
     "name": "stdout",
     "output_type": "stream",
     "text": [
      "\n",
      "*** Feature extraction finished ***\n"
     ]
    },
    {
     "data": {
      "text/plain": [
       "array([[-0.51138092, -0.51138092,  0.        , ..., -0.93236962,\n",
       "        -0.82073136, -0.69360613],\n",
       "       [-0.51223453, -0.51223453,  0.        , ..., -3.77692427,\n",
       "        -0.86403408, -0.69860818],\n",
       "       [-0.51163344, -0.51163344,  0.        , ...,  0.67409795,\n",
       "        -0.92148814, -0.70321676],\n",
       "       ...,\n",
       "       [-0.2019435 , -0.2019435 ,  0.        , ...,  0.60771445,\n",
       "         0.71072179,  0.32822904],\n",
       "       [ 0.06612068,  0.06612068,  0.        , ..., -0.49665654,\n",
       "         0.93065361,  0.60992509],\n",
       "       [-0.29478442, -0.29478442,  0.        , ...,  1.0224739 ,\n",
       "         0.18455707, -0.20816283]])"
      ]
     },
     "execution_count": 17,
     "metadata": {},
     "output_type": "execute_result"
    }
   ],
   "source": [
    "# with open('model_features.pkl', 'rb') as f:\n",
    "#     model_features = pickle.load(f)\n",
    "# y_predict=model_raw.predict(X_test)\n",
    "import tsfel \n",
    "from sklearn.preprocessing import StandardScaler\n",
    "y_list = []\n",
    "\n",
    "features_list = []\n",
    "\n",
    "data_directory = os.path.join(\"Physics_tool_box_data\")\n",
    "# Iterate through each activity folder\n",
    "for activity_folder in os.listdir(data_directory):\n",
    "    activity_path = os.path.join(data_directory, activity_folder)\n",
    "\n",
    "    # Iterate through files in the activity folder\n",
    "    for filename in os.listdir(activity_path):\n",
    "        file_path = os.path.join(activity_path, filename)\n",
    "\n",
    "        # Read the data from the file\n",
    "        data = pd.read_csv(file_path)\n",
    "        data=data.iloc[:,1:4]\n",
    "        #y_list.append(activity_folder)\n",
    "        # Extract features using TSFEL\n",
    "        cfg = tsfel.get_features_by_domain('statistical')\n",
    "        # extracted_features = tsfel.time_series_features_extractor(cfg, data)\n",
    "        \n",
    "        # df = pd.DataFrame(X)\n",
    "        fs = 50\n",
    "        \n",
    "        # displaying the DataFrame\n",
    "        extracted_features = tsfel.time_series_features_extractor(cfg, data,fs=fs,window_size=100)\n",
    "        \n",
    "        # Append the features DataFrame to the list\n",
    "        features_list.append(extracted_features)\n",
    "        y_list.extend([classes[activity_folder]]*len(extracted_features))\n",
    "        # Concatenate all features DataFrames into one\n",
    "        features_df = pd.concat(features_list, ignore_index=True, axis=0)\n",
    "\n",
    "scaler = StandardScaler()\n",
    "scaled_data = scaler.fit_transform(features_df)\n",
    "scaled_data"
   ]
  },
  {
   "cell_type": "code",
   "execution_count": 18,
   "id": "3403ce79",
   "metadata": {},
   "outputs": [
    {
     "name": "stdout",
     "output_type": "stream",
     "text": [
      "scale data:  (293, 120)\n"
     ]
    }
   ],
   "source": [
    "print(\"scale data: \",scaled_data.shape)"
   ]
  },
  {
   "cell_type": "code",
   "execution_count": 19,
   "id": "218a5ed4",
   "metadata": {},
   "outputs": [
    {
     "data": {
      "text/plain": [
       "array([4, 4, 4, 4, 4, 4, 4, 4, 4, 4, 4, 4, 4, 4, 4, 4, 4, 4, 4, 4, 4, 4,\n",
       "       4, 4, 4, 4, 4, 4, 4, 4, 4, 4, 4, 4, 4, 4, 4, 4, 4, 4, 4, 4, 4, 4,\n",
       "       4, 4, 4, 4, 4, 4, 4, 4, 4, 4, 4, 4, 4, 4, 4, 4, 4, 4, 4, 4, 4, 4,\n",
       "       4, 4, 4, 4, 4, 4, 4, 4, 4, 4, 4, 4, 4, 4, 4, 4, 4, 4, 4, 4, 4, 4,\n",
       "       4, 4, 4, 4, 4, 4, 4, 4, 4, 4, 4, 4, 4, 4, 4, 4, 4, 4, 4, 4, 4, 4,\n",
       "       4, 4, 4, 4, 4, 4, 4, 4, 4, 4, 4, 4, 4, 4, 4, 4, 4, 4, 4, 4, 4, 4,\n",
       "       4, 4, 4, 4, 4, 4, 4, 4, 4, 4, 4, 4, 4, 4, 4, 4, 4, 4, 4, 4, 4, 4,\n",
       "       4, 4, 3, 3, 3, 3, 3, 2, 2, 3, 3, 3, 3, 3, 2, 2, 4, 4, 4, 2, 4, 2,\n",
       "       1, 1, 1, 4, 3, 3, 1, 1, 3, 1, 1, 4, 3, 2, 1, 2, 2, 3, 1, 3, 3, 1,\n",
       "       1, 1, 3, 1, 2, 2, 2, 3, 3, 1, 3, 2, 2, 4, 2, 1, 2, 2, 2, 4, 2, 2,\n",
       "       4, 2, 2, 4, 4, 3, 2, 2, 2, 2, 2, 4, 1, 2, 4, 2, 2, 4, 3, 2, 2, 2,\n",
       "       4, 4, 2, 2, 3, 2, 1, 2, 2, 1, 2, 3, 2, 2, 4, 2, 2, 2, 4, 4, 5, 2,\n",
       "       2, 4, 4, 2, 2, 2, 1, 2, 2, 4, 2, 2, 2, 4, 4, 2, 2, 2, 2, 3, 1, 1,\n",
       "       2, 1, 2, 4, 4, 2, 1])"
      ]
     },
     "execution_count": 19,
     "metadata": {},
     "output_type": "execute_result"
    }
   ],
   "source": [
    "with open('model_features.pkl', 'rb') as f:\n",
    "    model_features = pickle.load(f)\n",
    "y_predict=model_features.predict(scaled_data)\n",
    "y_predict\n"
   ]
  },
  {
   "cell_type": "code",
   "execution_count": 20,
   "id": "2f5ca0f1",
   "metadata": {},
   "outputs": [],
   "source": [
    "df=pd.DataFrame(np.zeros((6,6),int),columns=['WALKING','WALKING_UPSTAIRS','WALKING_DOWNSTAIRS','SITTING','STANDING','LAYING'],index=['WALKING','WALKING_UPSTAIRS','WALKING_DOWNSTAIRS','SITTING','STANDING','LAYING'])"
   ]
  },
  {
   "cell_type": "code",
   "execution_count": 21,
   "id": "4bb2fa2d",
   "metadata": {},
   "outputs": [
    {
     "name": "stdout",
     "output_type": "stream",
     "text": [
      "Accuracy:  0.3103391770963009\n"
     ]
    }
   ],
   "source": [
    "for i in range(0,len(y_predict)):\n",
    "    df.iloc[y_predict[i]-1,y_list[i]-1]=df.iloc[y_predict[i]-1,y_list[i]-1]+1\n",
    "df['PRECISION'] = np.zeros(len(df))\n",
    "df.loc['RECALL']=np.zeros(7,int)\n",
    "for i in range(len(df)):\n",
    "    sum=df.iloc[i,:].sum()\n",
    "    if sum==0:\n",
    "        df.iloc[i,6]=0\n",
    "    else:\n",
    "        df.iloc[i,6]=df.iloc[i,i]/sum\n",
    "    \n",
    "for i in range(len(df.columns)):\n",
    "    sum=df.iloc[:,i].sum()\n",
    "    df.iloc[6,i]=df.iloc[i,i]/sum\n",
    "\n",
    "total_sum=0\n",
    "sum=0\n",
    "for i in range(len(df.columns)):\n",
    "    total_sum=total_sum+df.iloc[:,i].sum()\n",
    "for i in range(len(df.columns)):\n",
    "    sum=sum+df.iloc[i,i]\n",
    "accur=sum/total_sum\n",
    "print(\"Accuracy: \",accur)"
   ]
  },
  {
   "cell_type": "code",
   "execution_count": 22,
   "id": "5bd83eaa",
   "metadata": {},
   "outputs": [
    {
     "data": {
      "text/html": [
       "<div>\n",
       "<style scoped>\n",
       "    .dataframe tbody tr th:only-of-type {\n",
       "        vertical-align: middle;\n",
       "    }\n",
       "\n",
       "    .dataframe tbody tr th {\n",
       "        vertical-align: top;\n",
       "    }\n",
       "\n",
       "    .dataframe thead th {\n",
       "        text-align: right;\n",
       "    }\n",
       "</style>\n",
       "<table border=\"1\" class=\"dataframe\">\n",
       "  <thead>\n",
       "    <tr style=\"text-align: right;\">\n",
       "      <th></th>\n",
       "      <th>WALKING</th>\n",
       "      <th>WALKING_UPSTAIRS</th>\n",
       "      <th>WALKING_DOWNSTAIRS</th>\n",
       "      <th>SITTING</th>\n",
       "      <th>STANDING</th>\n",
       "      <th>LAYING</th>\n",
       "      <th>PRECISION</th>\n",
       "    </tr>\n",
       "  </thead>\n",
       "  <tbody>\n",
       "    <tr>\n",
       "      <th>WALKING</th>\n",
       "      <td>13.000000</td>\n",
       "      <td>7.000000</td>\n",
       "      <td>3.000000</td>\n",
       "      <td>0</td>\n",
       "      <td>0</td>\n",
       "      <td>0</td>\n",
       "      <td>0.565217</td>\n",
       "    </tr>\n",
       "    <tr>\n",
       "      <th>WALKING_UPSTAIRS</th>\n",
       "      <td>9.000000</td>\n",
       "      <td>26.000000</td>\n",
       "      <td>26.000000</td>\n",
       "      <td>0</td>\n",
       "      <td>0</td>\n",
       "      <td>0</td>\n",
       "      <td>0.426230</td>\n",
       "    </tr>\n",
       "    <tr>\n",
       "      <th>WALKING_DOWNSTAIRS</th>\n",
       "      <td>18.000000</td>\n",
       "      <td>2.000000</td>\n",
       "      <td>6.000000</td>\n",
       "      <td>0</td>\n",
       "      <td>0</td>\n",
       "      <td>0</td>\n",
       "      <td>0.230769</td>\n",
       "    </tr>\n",
       "    <tr>\n",
       "      <th>SITTING</th>\n",
       "      <td>8.000000</td>\n",
       "      <td>10.000000</td>\n",
       "      <td>10.000000</td>\n",
       "      <td>47</td>\n",
       "      <td>55</td>\n",
       "      <td>52</td>\n",
       "      <td>0.258242</td>\n",
       "    </tr>\n",
       "    <tr>\n",
       "      <th>STANDING</th>\n",
       "      <td>0.000000</td>\n",
       "      <td>1.000000</td>\n",
       "      <td>0.000000</td>\n",
       "      <td>0</td>\n",
       "      <td>0</td>\n",
       "      <td>0</td>\n",
       "      <td>0.000000</td>\n",
       "    </tr>\n",
       "    <tr>\n",
       "      <th>LAYING</th>\n",
       "      <td>0.000000</td>\n",
       "      <td>0.000000</td>\n",
       "      <td>0.000000</td>\n",
       "      <td>0</td>\n",
       "      <td>0</td>\n",
       "      <td>0</td>\n",
       "      <td>0.000000</td>\n",
       "    </tr>\n",
       "    <tr>\n",
       "      <th>RECALL</th>\n",
       "      <td>0.270833</td>\n",
       "      <td>0.565217</td>\n",
       "      <td>0.133333</td>\n",
       "      <td>1</td>\n",
       "      <td>0</td>\n",
       "      <td>0</td>\n",
       "      <td>0.000000</td>\n",
       "    </tr>\n",
       "  </tbody>\n",
       "</table>\n",
       "</div>"
      ],
      "text/plain": [
       "                      WALKING  WALKING_UPSTAIRS  WALKING_DOWNSTAIRS  SITTING  \\\n",
       "WALKING             13.000000          7.000000            3.000000        0   \n",
       "WALKING_UPSTAIRS     9.000000         26.000000           26.000000        0   \n",
       "WALKING_DOWNSTAIRS  18.000000          2.000000            6.000000        0   \n",
       "SITTING              8.000000         10.000000           10.000000       47   \n",
       "STANDING             0.000000          1.000000            0.000000        0   \n",
       "LAYING               0.000000          0.000000            0.000000        0   \n",
       "RECALL               0.270833          0.565217            0.133333        1   \n",
       "\n",
       "                    STANDING  LAYING  PRECISION  \n",
       "WALKING                    0       0   0.565217  \n",
       "WALKING_UPSTAIRS           0       0   0.426230  \n",
       "WALKING_DOWNSTAIRS         0       0   0.230769  \n",
       "SITTING                   55      52   0.258242  \n",
       "STANDING                   0       0   0.000000  \n",
       "LAYING                     0       0   0.000000  \n",
       "RECALL                     0       0   0.000000  "
      ]
     },
     "execution_count": 22,
     "metadata": {},
     "output_type": "execute_result"
    }
   ],
   "source": [
    "df"
   ]
  },
  {
   "cell_type": "markdown",
   "id": "14cf0200",
   "metadata": {},
   "source": [
    "We are getting approx 21% and 31% accuracy for model trained on raw data and featurized data respectively. Although model gives 63% and 89% accuracy for UCI dataset test data. This difference might occurred due to error while taking reading, Although we took reading carefully by following all instructions. "
   ]
  },
  {
   "cell_type": "code",
   "execution_count": null,
   "id": "741d83ca",
   "metadata": {},
   "outputs": [],
   "source": []
  }
 ],
 "metadata": {
  "kernelspec": {
   "display_name": "Python 3 (ipykernel)",
   "language": "python",
   "name": "python3"
  },
  "language_info": {
   "codemirror_mode": {
    "name": "ipython",
    "version": 3
   },
   "file_extension": ".py",
   "mimetype": "text/x-python",
   "name": "python",
   "nbconvert_exporter": "python",
   "pygments_lexer": "ipython3",
   "version": "3.11.3"
  }
 },
 "nbformat": 4,
 "nbformat_minor": 5
}
